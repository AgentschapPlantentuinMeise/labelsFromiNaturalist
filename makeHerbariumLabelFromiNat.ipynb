{
  "nbformat": 4,
  "nbformat_minor": 0,
  "metadata": {
    "colab": {
      "name": "makeHerbariumLabelFromiNat.ipynb",
      "provenance": [],
      "collapsed_sections": [],
      "include_colab_link": true
    },
    "kernelspec": {
      "name": "python3",
      "display_name": "Python 3"
    }
  },
  "cells": [
    {
      "cell_type": "markdown",
      "metadata": {
        "id": "view-in-github",
        "colab_type": "text"
      },
      "source": [
        "<a href=\"https://colab.research.google.com/github/AgentschapPlantentuinMeise/labelsFromiNaturalist/blob/main/makeHerbariumLabelFromiNat.ipynb\" target=\"_parent\"><img src=\"https://colab.research.google.com/assets/colab-badge.svg\" alt=\"Open In Colab\"/></a>"
      ]
    },
    {
      "cell_type": "code",
      "metadata": {
        "colab": {
          "base_uri": "https://localhost:8080/"
        },
        "id": "Np7H_gWfk2k2",
        "outputId": "83ed6e72-ae3c-4a19-ae42-9ab9b3e7e98a"
      },
      "source": [
        "pip install blabel"
      ],
      "execution_count": null,
      "outputs": [
        {
          "output_type": "stream",
          "text": [
            "Requirement already satisfied: blabel in /usr/local/lib/python3.6/dist-packages (0.1.4)\n",
            "Requirement already satisfied: pillow in /usr/local/lib/python3.6/dist-packages (from blabel) (7.0.0)\n",
            "Requirement already satisfied: weasyprint in /usr/local/lib/python3.6/dist-packages (from blabel) (52.2)\n",
            "Requirement already satisfied: qrcode in /usr/local/lib/python3.6/dist-packages (from blabel) (6.1)\n",
            "Requirement already satisfied: jinja2 in /usr/local/lib/python3.6/dist-packages (from blabel) (2.11.2)\n",
            "Requirement already satisfied: pystrich in /usr/local/lib/python3.6/dist-packages (from blabel) (0.8)\n",
            "Requirement already satisfied: python-barcode in /usr/local/lib/python3.6/dist-packages (from blabel) (0.13.1)\n",
            "Requirement already satisfied: cairocffi>=0.9.0 in /usr/local/lib/python3.6/dist-packages (from weasyprint->blabel) (1.2.0)\n",
            "Requirement already satisfied: cffi>=0.6 in /usr/local/lib/python3.6/dist-packages (from weasyprint->blabel) (1.14.4)\n",
            "Requirement already satisfied: tinycss2>=1.0.0 in /usr/local/lib/python3.6/dist-packages (from weasyprint->blabel) (1.1.0)\n",
            "Requirement already satisfied: setuptools>=39.2.0 in /usr/local/lib/python3.6/dist-packages (from weasyprint->blabel) (51.0.0)\n",
            "Requirement already satisfied: html5lib>=0.999999999 in /usr/local/lib/python3.6/dist-packages (from weasyprint->blabel) (1.0.1)\n",
            "Requirement already satisfied: CairoSVG>=2.4.0 in /usr/local/lib/python3.6/dist-packages (from weasyprint->blabel) (2.5.0)\n",
            "Requirement already satisfied: cssselect2>=0.1 in /usr/local/lib/python3.6/dist-packages (from weasyprint->blabel) (0.4.1)\n",
            "Requirement already satisfied: Pyphen>=0.9.1 in /usr/local/lib/python3.6/dist-packages (from weasyprint->blabel) (0.10.0)\n",
            "Requirement already satisfied: six in /usr/local/lib/python3.6/dist-packages (from qrcode->blabel) (1.15.0)\n",
            "Requirement already satisfied: MarkupSafe>=0.23 in /usr/local/lib/python3.6/dist-packages (from jinja2->blabel) (1.1.1)\n",
            "Requirement already satisfied: pycparser in /usr/local/lib/python3.6/dist-packages (from cffi>=0.6->weasyprint->blabel) (2.20)\n",
            "Requirement already satisfied: webencodings>=0.4 in /usr/local/lib/python3.6/dist-packages (from tinycss2>=1.0.0->weasyprint->blabel) (0.5.1)\n",
            "Requirement already satisfied: defusedxml in /usr/local/lib/python3.6/dist-packages (from CairoSVG>=2.4.0->weasyprint->blabel) (0.6.0)\n"
          ],
          "name": "stdout"
        }
      ]
    },
    {
      "cell_type": "code",
      "metadata": {
        "id": "1qfH_YCBklfe"
      },
      "source": [
        "import requests\r\n",
        "#import re\r\n",
        "#import matplotlib.pyplot as plt\r\n",
        "#import numpy as np\r\n",
        "import pandas as pd\r\n",
        "#from urllib.parse import urlencode\r\n",
        "#import json\r\n",
        "from datetime import datetime\r\n",
        "import time\r\n",
        "from inspect import getmembers, isfunction\r\n",
        "from blabel import LabelWriter\r\n",
        "from dateutil import parser"
      ],
      "execution_count": null,
      "outputs": []
    },
    {
      "cell_type": "code",
      "metadata": {
        "id": "GeyH4lGSqFPU"
      },
      "source": [
        "# Helpful site: https://api.inaturalist.org/v1/docs/#!/Observations/get_observations\r\n",
        "# look for the taxon ids and place ids in the urls on the web site.\r\n",
        "\r\n",
        "q = {\r\n",
        "    \"user_id\": \"qgroom\",\r\n",
        "    \"year\": \"2018\",\r\n",
        "    \"per_page\": 100,\r\n",
        "     \"page\": 1,\r\n",
        "     \"iconic_taxa\": \"Plantae\",\r\n",
        "}\r\n",
        "url = \"https://api.inaturalist.org/v1/observations?user_id=qgroom&year=2020&order=desc&order_by=created_at\"\r\n",
        "\r\n",
        "\r\n",
        "#del bioblitzProjects\r\n",
        "observations = pd.DataFrame()\r\n",
        "\r\n",
        "num_pages = 3"
      ],
      "execution_count": null,
      "outputs": []
    },
    {
      "cell_type": "code",
      "metadata": {
        "colab": {
          "base_uri": "https://localhost:8080/"
        },
        "id": "2P8pxfz7pWsI",
        "outputId": "b1f6647b-b73e-4487-d630-4951067fa0c5"
      },
      "source": [
        "# get all the project from iNaturalist\r\n",
        "\r\n",
        "page = int(1)\r\n",
        "while True:\r\n",
        "    r = requests.get(url, params=q)\r\n",
        "    observations = pd.concat([observations, pd.DataFrame(r.json()[\"results\"])], sort=False)\r\n",
        "\r\n",
        "    if page > num_pages:\r\n",
        "      break\r\n",
        "    if page == 1:\r\n",
        "        num_pages = int(r.json()[\"total_results\"] / r.json()[\"per_page\"])+1\r\n",
        "        print(r.json()[\"total_results\"])\r\n",
        "        print(num_pages)\r\n",
        "        print(\"Results:\", r.json()[\"total_results\"], \", \", num_pages, \" pages total\")\r\n",
        "    print(\"Retrieving page \", url+\" page \" + str(page))\r\n",
        "    page += 1\r\n",
        "    q[\"page\"] = page\r\n",
        "    time.sleep(1)"
      ],
      "execution_count": null,
      "outputs": [
        {
          "output_type": "stream",
          "text": [
            "1234\n",
            "13\n",
            "Results: 1234 ,  13  pages total\n",
            "Retrieving page  https://api.inaturalist.org/v1/observations?user_id=qgroom&year=2020&order=desc&order_by=created_at page 1\n",
            "Retrieving page  https://api.inaturalist.org/v1/observations?user_id=qgroom&year=2020&order=desc&order_by=created_at page 2\n",
            "Retrieving page  https://api.inaturalist.org/v1/observations?user_id=qgroom&year=2020&order=desc&order_by=created_at page 3\n",
            "Retrieving page  https://api.inaturalist.org/v1/observations?user_id=qgroom&year=2020&order=desc&order_by=created_at page 4\n",
            "Retrieving page  https://api.inaturalist.org/v1/observations?user_id=qgroom&year=2020&order=desc&order_by=created_at page 5\n",
            "Retrieving page  https://api.inaturalist.org/v1/observations?user_id=qgroom&year=2020&order=desc&order_by=created_at page 6\n",
            "Retrieving page  https://api.inaturalist.org/v1/observations?user_id=qgroom&year=2020&order=desc&order_by=created_at page 7\n",
            "Retrieving page  https://api.inaturalist.org/v1/observations?user_id=qgroom&year=2020&order=desc&order_by=created_at page 8\n",
            "Retrieving page  https://api.inaturalist.org/v1/observations?user_id=qgroom&year=2020&order=desc&order_by=created_at page 9\n",
            "Retrieving page  https://api.inaturalist.org/v1/observations?user_id=qgroom&year=2020&order=desc&order_by=created_at page 10\n",
            "Retrieving page  https://api.inaturalist.org/v1/observations?user_id=qgroom&year=2020&order=desc&order_by=created_at page 11\n",
            "Retrieving page  https://api.inaturalist.org/v1/observations?user_id=qgroom&year=2020&order=desc&order_by=created_at page 12\n",
            "Retrieving page  https://api.inaturalist.org/v1/observations?user_id=qgroom&year=2020&order=desc&order_by=created_at page 13\n"
          ],
          "name": "stdout"
        }
      ]
    },
    {
      "cell_type": "code",
      "metadata": {
        "colab": {
          "base_uri": "https://localhost:8080/",
          "height": 231
        },
        "id": "FcT7VEixp6tD",
        "outputId": "e5078e98-32c7-48cc-a37d-7688fc91bb3e"
      },
      "source": [
        "tmpObservation = dict()\r\n",
        "listOfObservations = []\r\n",
        "\r\n",
        "for index, value in observations.iterrows():\r\n",
        "    #print(\"value \",value)\r\n",
        "    tmpObservation.clear()\r\n",
        "    tmpObservation['recordNumber'] = \"s.n.\"\r\n",
        "    if not (value['taxon'] is None):\r\n",
        "        for key, taxon in value['taxon'].items():\r\n",
        "            if key == 'name':\r\n",
        "                tmpObservation['scientificName'] = taxon\r\n",
        "    if not (value['user'] is None):\r\n",
        "        for key, user in value['user'].items():\r\n",
        "            #print(key,user)\r\n",
        "            if key == 'name':\r\n",
        "                tmpObservation['recordedBy'] = user\r\n",
        "            if key == 'orcid':\r\n",
        "                tmpObservation['recordedById'] = user\r\n",
        "    if not (value['uri'] is None):\r\n",
        "            tmpObservation['uri'] = value['uri']\r\n",
        "    if not (value['place_guess'] is None):\r\n",
        "            tmpObservation['locality'] = value['place_guess']\r\n",
        "    if not (value['location'] is None):\r\n",
        "            tmpObservation['decimalLongitude'] = value['location'].split(',')[1]\r\n",
        "            tmpObservation['decimalLatitude'] = value['location'].split(',')[0]\r\n",
        "    if not (value['time_observed_at'] is None):\r\n",
        "            #from datetime import datetime, timedelta, date\r\n",
        "            #eventDate = datetime.strptime(value['time_observed_at'], '%Y-%m-%dT%H:%M:%S%z')\r\n",
        "            eventDate =  parser.parse(value['time_observed_at'])\r\n",
        "            tmpObservation['eventDate'] = eventDate.strftime('%Y-%m-%d')\r\n",
        "            tmpObservation['eventTime'] = eventDate.strftime('%H:%M:%S%z')\r\n",
        "    if not (value['ofvs'] is None):\r\n",
        "            for extra in value['ofvs']:\r\n",
        "              if extra['name'] == 'Collection #':\r\n",
        "                tmpObservation['recordNumber'] = extra['value']\r\n",
        "                print('Collection number ',extra['value'])\r\n",
        "    #print(tmpObservation)\r\n",
        "    listOfObservations.append(tmpObservation.copy())"
      ],
      "execution_count": 1,
      "outputs": [
        {
          "output_type": "error",
          "ename": "NameError",
          "evalue": "ignored",
          "traceback": [
            "\u001b[0;31m---------------------------------------------------------------------------\u001b[0m",
            "\u001b[0;31mNameError\u001b[0m                                 Traceback (most recent call last)",
            "\u001b[0;32m<ipython-input-1-b7450ecb7823>\u001b[0m in \u001b[0;36m<module>\u001b[0;34m()\u001b[0m\n\u001b[1;32m      2\u001b[0m \u001b[0mlistOfObservations\u001b[0m \u001b[0;34m=\u001b[0m \u001b[0;34m[\u001b[0m\u001b[0;34m]\u001b[0m\u001b[0;34m\u001b[0m\u001b[0;34m\u001b[0m\u001b[0m\n\u001b[1;32m      3\u001b[0m \u001b[0;34m\u001b[0m\u001b[0m\n\u001b[0;32m----> 4\u001b[0;31m \u001b[0;32mfor\u001b[0m \u001b[0mindex\u001b[0m\u001b[0;34m,\u001b[0m \u001b[0mvalue\u001b[0m \u001b[0;32min\u001b[0m \u001b[0mobservations\u001b[0m\u001b[0;34m.\u001b[0m\u001b[0miterrows\u001b[0m\u001b[0;34m(\u001b[0m\u001b[0;34m)\u001b[0m\u001b[0;34m:\u001b[0m\u001b[0;34m\u001b[0m\u001b[0;34m\u001b[0m\u001b[0m\n\u001b[0m\u001b[1;32m      5\u001b[0m     \u001b[0;31m#print(\"value \",value)\u001b[0m\u001b[0;34m\u001b[0m\u001b[0;34m\u001b[0m\u001b[0;34m\u001b[0m\u001b[0m\n\u001b[1;32m      6\u001b[0m     \u001b[0mtmpObservation\u001b[0m\u001b[0;34m.\u001b[0m\u001b[0mclear\u001b[0m\u001b[0;34m(\u001b[0m\u001b[0;34m)\u001b[0m\u001b[0;34m\u001b[0m\u001b[0;34m\u001b[0m\u001b[0m\n",
            "\u001b[0;31mNameError\u001b[0m: name 'observations' is not defined"
          ]
        }
      ]
    },
    {
      "cell_type": "code",
      "metadata": {
        "id": "rNHVqdZLlFME"
      },
      "source": [
        "label_writer = LabelWriter(\"/content/herbTemplate.html\",\r\n",
        "                           default_stylesheets=(\"/content/style.css\",))"
      ],
      "execution_count": null,
      "outputs": []
    },
    {
      "cell_type": "code",
      "metadata": {
        "id": "_pk5Jl70qwav"
      },
      "source": [
        "label_writer.write_labels(listOfObservations, target='/content/qrcode_and_label.pdf')"
      ],
      "execution_count": null,
      "outputs": []
    },
    {
      "cell_type": "code",
      "metadata": {
        "id": "jHVMbtETwwqd"
      },
      "source": [
        ""
      ],
      "execution_count": null,
      "outputs": []
    }
  ]
}