{
 "cells": [
  {
   "cell_type": "markdown",
   "metadata": {
    "colab_type": "text",
    "id": "view-in-github"
   },
   "source": [
    "<a href=\"https://colab.research.google.com/github/AgentschapPlantentuinMeise/labelsFromiNaturalist/blob/main/makeHerbariumLabelFromiNat.ipynb\" target=\"_parent\"><img src=\"https://colab.research.google.com/assets/colab-badge.svg\" alt=\"Open In Colab\"/></a>"
   ]
  },
  {
   "cell_type": "code",
   "execution_count": 1,
   "metadata": {
    "colab": {
     "base_uri": "https://localhost:8080/"
    },
    "id": "Np7H_gWfk2k2",
    "outputId": "83ed6e72-ae3c-4a19-ae42-9ab9b3e7e98a"
   },
   "outputs": [
    {
     "name": "stdout",
     "output_type": "stream",
     "text": [
      "Requirement already satisfied: blabel in c:\\users\\quent\\anaconda3\\lib\\site-packages (0.1.4)\n",
      "Requirement already satisfied: weasyprint in c:\\users\\quent\\anaconda3\\lib\\site-packages (from blabel) (52.5)\n",
      "Requirement already satisfied: qrcode in c:\\users\\quent\\anaconda3\\lib\\site-packages (from blabel) (6.1)\n",
      "Requirement already satisfied: jinja2 in c:\\users\\quent\\anaconda3\\lib\\site-packages (from blabel) (2.11.2)\n",
      "Requirement already satisfied: pystrich in c:\\users\\quent\\anaconda3\\lib\\site-packages (from blabel) (0.8)\n",
      "Requirement already satisfied: pillow in c:\\users\\quent\\anaconda3\\lib\\site-packages (from blabel) (8.0.1)\n",
      "Requirement already satisfied: python-barcode in c:\\users\\quent\\anaconda3\\lib\\site-packages (from blabel) (0.13.1)\n",
      "Requirement already satisfied: cssselect2>=0.1 in c:\\users\\quent\\anaconda3\\lib\\site-packages (from weasyprint->blabel) (0.4.1)\n",
      "Requirement already satisfied: cffi>=0.6 in c:\\users\\quent\\anaconda3\\lib\\site-packages (from weasyprint->blabel) (1.14.3)\n",
      "Requirement already satisfied: tinycss2>=1.0.0 in c:\\users\\quent\\anaconda3\\lib\\site-packages (from weasyprint->blabel) (1.1.0)\n",
      "Requirement already satisfied: html5lib>=0.999999999 in c:\\users\\quent\\anaconda3\\lib\\site-packages (from weasyprint->blabel) (1.1)\n",
      "Requirement already satisfied: setuptools>=39.2.0 in c:\\users\\quent\\anaconda3\\lib\\site-packages (from weasyprint->blabel) (50.3.1.post20201107)\n",
      "Requirement already satisfied: CairoSVG>=2.4.0 in c:\\users\\quent\\anaconda3\\lib\\site-packages (from weasyprint->blabel) (2.5.2)\n",
      "Requirement already satisfied: Pyphen>=0.9.1 in c:\\users\\quent\\anaconda3\\lib\\site-packages (from weasyprint->blabel) (0.10.0)\n",
      "Requirement already satisfied: cairocffi>=0.9.0 in c:\\users\\quent\\anaconda3\\lib\\site-packages (from weasyprint->blabel) (1.2.0)\n",
      "Requirement already satisfied: colorama; platform_system == \"Windows\" in c:\\users\\quent\\anaconda3\\lib\\site-packages (from qrcode->blabel) (0.4.4)\n",
      "Requirement already satisfied: six in c:\\users\\quent\\anaconda3\\lib\\site-packages (from qrcode->blabel) (1.15.0)\n",
      "Requirement already satisfied: MarkupSafe>=0.23 in c:\\users\\quent\\anaconda3\\lib\\site-packages (from jinja2->blabel) (1.1.1)\n",
      "Requirement already satisfied: webencodings in c:\\users\\quent\\anaconda3\\lib\\site-packages (from cssselect2>=0.1->weasyprint->blabel) (0.5.1)\n",
      "Requirement already satisfied: pycparser in c:\\users\\quent\\anaconda3\\lib\\site-packages (from cffi>=0.6->weasyprint->blabel) (2.20)\n",
      "Requirement already satisfied: defusedxml in c:\\users\\quent\\anaconda3\\lib\\site-packages (from CairoSVG>=2.4.0->weasyprint->blabel) (0.6.0)\n",
      "Note: you may need to restart the kernel to use updated packages.\n"
     ]
    }
   ],
   "source": [
    "pip install blabel"
   ]
  },
  {
   "cell_type": "code",
   "execution_count": 2,
   "metadata": {
    "id": "1qfH_YCBklfe"
   },
   "outputs": [],
   "source": [
    "import requests\n",
    "#import re\n",
    "#import matplotlib.pyplot as plt\n",
    "#import numpy as np\n",
    "import pandas as pd\n",
    "#from urllib.parse import urlencode\n",
    "#import json\n",
    "from datetime import datetime\n",
    "import time\n",
    "from inspect import getmembers, isfunction\n",
    "from dateutil import parser"
   ]
  },
  {
   "cell_type": "code",
   "execution_count": 3,
   "metadata": {
    "id": "1qfH_YCBklfe"
   },
   "outputs": [],
   "source": [
    "from blabel import LabelWriter"
   ]
  },
  {
   "cell_type": "code",
   "execution_count": 13,
   "metadata": {
    "id": "GeyH4lGSqFPU"
   },
   "outputs": [],
   "source": [
    "# Helpful site: https://api.inaturalist.org/v1/docs/#!/Observations/get_observations\n",
    "# look for the taxon ids and place ids in the urls on the web site.\n",
    "\n",
    "q = {\n",
    "    \"user_id\": \"qgroom\",\n",
    "    \"year\": \"2021\",\n",
    "    \"per_page\": 100,\n",
    "     \"page\": 1,\n",
    "     \"iconic_taxa\": \"Plantae\",\n",
    "    \"taxon_name\": \"Pulmonaria\"\n",
    "}\n",
    "url = \"https://api.inaturalist.org/v1/observations?user_id=qgroom&year=2020&order=desc&order_by=created_at\"\n",
    "\n",
    "\n",
    "#del bioblitzProjects\n",
    "observations = pd.DataFrame()\n",
    "\n",
    "num_pages = 3"
   ]
  },
  {
   "cell_type": "code",
   "execution_count": 14,
   "metadata": {
    "colab": {
     "base_uri": "https://localhost:8080/"
    },
    "id": "2P8pxfz7pWsI",
    "outputId": "b1f6647b-b73e-4487-d630-4951067fa0c5"
   },
   "outputs": [
    {
     "name": "stdout",
     "output_type": "stream",
     "text": [
      "10\n",
      "1\n",
      "Results: 10 ,  1  pages total\n",
      "Retrieving page  https://api.inaturalist.org/v1/observations?user_id=qgroom&year=2020&order=desc&order_by=created_at page 1\n"
     ]
    }
   ],
   "source": [
    "# get all the project from iNaturalist\n",
    "\n",
    "page = int(1)\n",
    "while True:\n",
    "    r = requests.get(url, params=q)\n",
    "    observations = pd.concat([observations, pd.DataFrame(r.json()[\"results\"])], sort=False)\n",
    "\n",
    "    if page > num_pages:\n",
    "      break\n",
    "    if page == 1:\n",
    "        num_pages = int(r.json()[\"total_results\"] / r.json()[\"per_page\"])+1\n",
    "        print(r.json()[\"total_results\"])\n",
    "        print(num_pages)\n",
    "        print(\"Results:\", r.json()[\"total_results\"], \", \", num_pages, \" pages total\")\n",
    "    print(\"Retrieving page \", url+\" page \" + str(page))\n",
    "    page += 1\n",
    "    q[\"page\"] = page\n",
    "    time.sleep(1)"
   ]
  },
  {
   "cell_type": "code",
   "execution_count": 15,
   "metadata": {
    "colab": {
     "base_uri": "https://localhost:8080/",
     "height": 231
    },
    "id": "FcT7VEixp6tD",
    "outputId": "e5078e98-32c7-48cc-a37d-7688fc91bb3e"
   },
   "outputs": [],
   "source": [
    "tmpObservation = dict()\n",
    "listOfObservations = []\n",
    "\n",
    "for index, value in observations.iterrows():\n",
    "    #print(\"value \",value)\n",
    "    tmpObservation.clear()\n",
    "    tmpObservation['recordNumber'] = \"s.n.\"\n",
    "    if not (value['taxon'] is None):\n",
    "        for key, taxon in value['taxon'].items():\n",
    "            if key == 'name':\n",
    "                tmpObservation['scientificName'] = taxon\n",
    "    if not (value['user'] is None):\n",
    "        for key, user in value['user'].items():\n",
    "            #print(key,user)\n",
    "            if key == 'name':\n",
    "                tmpObservation['recordedBy'] = user\n",
    "            if key == 'orcid':\n",
    "                tmpObservation['recordedById'] = user\n",
    "    if not (value['uri'] is None):\n",
    "            tmpObservation['uri'] = value['uri']\n",
    "    if not (value['place_guess'] is None):\n",
    "            tmpObservation['locality'] = value['place_guess']\n",
    "    if not (value['location'] is None):\n",
    "            tmpObservation['decimalLongitude'] = value['location'].split(',')[1]\n",
    "            tmpObservation['decimalLatitude'] = value['location'].split(',')[0]\n",
    "    if not (value['time_observed_at'] is None):\n",
    "            #from datetime import datetime, timedelta, date\n",
    "            #eventDate = datetime.strptime(value['time_observed_at'], '%Y-%m-%dT%H:%M:%S%z')\n",
    "            eventDate =  parser.parse(value['time_observed_at'])\n",
    "            tmpObservation['eventDate'] = eventDate.strftime('%Y-%m-%d')\n",
    "            tmpObservation['eventTime'] = eventDate.strftime('%H:%M:%S%z')\n",
    "    if not (value['ofvs'] is None):\n",
    "            for extra in value['ofvs']:\n",
    "              if extra['name'] == 'Collector Field Number':\n",
    "                tmpObservation['recordNumber'] = extra['value']\n",
    "                print('Collection number ',extra['value'])\n",
    "    #print(tmpObservation)\n",
    "    listOfObservations.append(tmpObservation.copy())"
   ]
  },
  {
   "cell_type": "code",
   "execution_count": 38,
   "metadata": {
    "id": "rNHVqdZLlFME"
   },
   "outputs": [],
   "source": [
    "label_writer = LabelWriter(\"herbTemplate.html\",\n",
    "                           default_stylesheets=(\"style.css\",))"
   ]
  },
  {
   "cell_type": "code",
   "execution_count": 39,
   "metadata": {
    "id": "_pk5Jl70qwav"
   },
   "outputs": [],
   "source": [
    "label_writer.write_labels(listOfObservations, target='qrcode_and_label.pdf')"
   ]
  },
  {
   "cell_type": "code",
   "execution_count": null,
   "metadata": {
    "id": "jHVMbtETwwqd"
   },
   "outputs": [],
   "source": []
  },
  {
   "cell_type": "code",
   "execution_count": 37,
   "metadata": {},
   "outputs": [
    {
     "data": {
      "text/plain": [
       "[{'recordNumber': 's.n.',\n",
       "  'scientificName': 'Pulmonaria montana',\n",
       "  'recordedBy': 'Quentin Groom',\n",
       "  'recordedById': 'https://orcid.org/0000-0002-0596-5376',\n",
       "  'uri': 'https://www.inaturalist.org/observations/74865918',\n",
       "  'locality': '6769 Meix-devant-Virton, Belgium',\n",
       "  'decimalLongitude': '5.42599886',\n",
       "  'decimalLatitude': '49.60356256',\n",
       "  'eventDate': '2021-04-22',\n",
       "  'eventTime': '16:16:03+0200'},\n",
       " {'recordNumber': 's.n.',\n",
       "  'scientificName': 'Pulmonaria montana',\n",
       "  'recordedBy': 'Quentin Groom',\n",
       "  'recordedById': 'https://orcid.org/0000-0002-0596-5376',\n",
       "  'uri': 'https://www.inaturalist.org/observations/74865769',\n",
       "  'locality': 'Meuse, Lorraine, FR',\n",
       "  'decimalLongitude': '5.37138117',\n",
       "  'decimalLatitude': '49.56717849',\n",
       "  'eventDate': '2021-04-22',\n",
       "  'eventTime': '14:25:38+0200'},\n",
       " {'recordNumber': 's.n.',\n",
       "  'scientificName': 'Pulmonaria obscura',\n",
       "  'recordedBy': 'Quentin Groom',\n",
       "  'recordedById': 'https://orcid.org/0000-0002-0596-5376',\n",
       "  'uri': 'https://www.inaturalist.org/observations/74861474',\n",
       "  'locality': 'Luxembourg, Wallonie, BE',\n",
       "  'decimalLongitude': '5.47854607',\n",
       "  'decimalLatitude': '49.51290218',\n",
       "  'eventDate': '2021-04-22',\n",
       "  'eventTime': '12:02:21+0200'},\n",
       " {'recordNumber': 's.n.',\n",
       "  'scientificName': 'Pulmonaria obscura',\n",
       "  'recordedBy': 'Quentin Groom',\n",
       "  'recordedById': 'https://orcid.org/0000-0002-0596-5376',\n",
       "  'uri': 'https://www.inaturalist.org/observations/74860997',\n",
       "  'locality': 'Luxembourg, Wallonie, BE',\n",
       "  'decimalLongitude': '5.54627215',\n",
       "  'decimalLatitude': '49.5326993',\n",
       "  'eventDate': '2021-04-22',\n",
       "  'eventTime': '10:46:23+0200'},\n",
       " {'recordNumber': 's.n.',\n",
       "  'scientificName': 'Pulmonaria montana',\n",
       "  'recordedBy': 'Quentin Groom',\n",
       "  'recordedById': 'https://orcid.org/0000-0002-0596-5376',\n",
       "  'uri': 'https://www.inaturalist.org/observations/74721548',\n",
       "  'locality': '6769 Meix-devant-Virton, Belgium',\n",
       "  'decimalLongitude': '5.47184525',\n",
       "  'decimalLatitude': '49.58934174',\n",
       "  'eventDate': '2021-04-21',\n",
       "  'eventTime': '07:53:52+0200'},\n",
       " {'recordNumber': 's.n.',\n",
       "  'scientificName': 'Pulmonaria montana',\n",
       "  'recordedBy': 'Quentin Groom',\n",
       "  'recordedById': 'https://orcid.org/0000-0002-0596-5376',\n",
       "  'uri': 'https://www.inaturalist.org/observations/74721534',\n",
       "  'locality': '6769 Meix-devant-Virton, Belgium',\n",
       "  'decimalLongitude': '5.476054',\n",
       "  'decimalLatitude': '49.587392',\n",
       "  'eventDate': '2021-04-21',\n",
       "  'eventTime': '07:19:05+0200'},\n",
       " {'recordNumber': 's.n.',\n",
       "  'scientificName': 'Pulmonaria',\n",
       "  'recordedBy': 'Quentin Groom',\n",
       "  'recordedById': 'https://orcid.org/0000-0002-0596-5376',\n",
       "  'uri': 'https://www.inaturalist.org/observations/74648652',\n",
       "  'locality': '6823 Florenville, Belgium',\n",
       "  'decimalLongitude': '5.3473774',\n",
       "  'decimalLatitude': '49.6399279',\n",
       "  'eventDate': '2021-04-20',\n",
       "  'eventTime': '17:22:52+0200'},\n",
       " {'recordNumber': 's.n.',\n",
       "  'scientificName': 'Pulmonaria montana',\n",
       "  'recordedBy': 'Quentin Groom',\n",
       "  'recordedById': 'https://orcid.org/0000-0002-0596-5376',\n",
       "  'uri': 'https://www.inaturalist.org/observations/74646827',\n",
       "  'locality': '6823 Florenville, Belgium',\n",
       "  'decimalLongitude': '5.3473774',\n",
       "  'decimalLatitude': '49.6399279',\n",
       "  'eventDate': '2021-04-20',\n",
       "  'eventTime': '16:06:58+0200'},\n",
       " {'recordNumber': 's.n.',\n",
       "  'scientificName': 'Pulmonaria officinalis',\n",
       "  'recordedBy': 'Quentin Groom',\n",
       "  'recordedById': 'https://orcid.org/0000-0002-0596-5376',\n",
       "  'uri': 'https://www.inaturalist.org/observations/56501564',\n",
       "  'locality': 'Schmalkalden-Meiningen, DE-TH, DE',\n",
       "  'decimalLongitude': '10.5639199722',\n",
       "  'decimalLatitude': '50.701245',\n",
       "  'eventDate': '2020-08-15',\n",
       "  'eventTime': '11:50:19+0200'},\n",
       " {'recordNumber': 's.n.',\n",
       "  'scientificName': 'Pulmonaria montana',\n",
       "  'recordedBy': 'Quentin Groom',\n",
       "  'recordedById': 'https://orcid.org/0000-0002-0596-5376',\n",
       "  'uri': 'https://www.inaturalist.org/observations/53398911',\n",
       "  'locality': 'Hameau Martinet 3, 39200 Villard-Saint-Sauveur, France',\n",
       "  'decimalLongitude': '5.86810298',\n",
       "  'decimalLatitude': '46.36749768',\n",
       "  'eventDate': '2020-07-17',\n",
       "  'eventTime': '20:44:51+0200'}]"
      ]
     },
     "execution_count": 37,
     "metadata": {},
     "output_type": "execute_result"
    }
   ],
   "source": [
    "listOfObservations"
   ]
  },
  {
   "cell_type": "code",
   "execution_count": null,
   "metadata": {},
   "outputs": [],
   "source": []
  }
 ],
 "metadata": {
  "colab": {
   "collapsed_sections": [],
   "include_colab_link": true,
   "name": "makeHerbariumLabelFromiNat.ipynb",
   "provenance": []
  },
  "kernelspec": {
   "display_name": "Python 3",
   "language": "python",
   "name": "python3"
  },
  "language_info": {
   "codemirror_mode": {
    "name": "ipython",
    "version": 3
   },
   "file_extension": ".py",
   "mimetype": "text/x-python",
   "name": "python",
   "nbconvert_exporter": "python",
   "pygments_lexer": "ipython3",
   "version": "3.8.5"
  }
 },
 "nbformat": 4,
 "nbformat_minor": 1
}
